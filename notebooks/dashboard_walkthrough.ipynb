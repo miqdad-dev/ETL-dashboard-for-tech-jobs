{
 "cells": [
  {
   "cell_type": "markdown",
   "id": "7d78ec9b",
   "metadata": {},
   "source": [
    "# Global Tech Talent Dashboard 🌍💻\n",
    "\n",
    "This notebook explores developer job market data worldwide using Python and ETL.\n",
    "\n",
    "## 🧼 Load Cleaned Data\n"
   ]
  },
  {
   "cell_type": "code",
   "execution_count": null,
   "id": "7c87d7e5",
   "metadata": {
    "vscode": {
     "languageId": "plaintext"
    }
   },
   "outputs": [],
   "source": [
    "import pandas as pd\n",
    "df = pd.read_csv('../data/jobs_cleaned.csv')\n",
    "df.head()\n"
   ]
  },
  {
   "cell_type": "markdown",
   "id": "148bae09",
   "metadata": {},
   "source": [
    "## 📊 Salary Distribution\n"
   ]
  },
  {
   "cell_type": "code",
   "execution_count": null,
   "id": "aa3a7a56",
   "metadata": {
    "vscode": {
     "languageId": "plaintext"
    }
   },
   "outputs": [],
   "source": [
    "from visuals.visualization import salary_distribution\n",
    "salary_distribution(df)\n",
    "from IPython.display import Image\n",
    "Image(filename='../visuals/salary_distribution.png')\n"
   ]
  },
  {
   "cell_type": "markdown",
   "id": "4eb88838",
   "metadata": {},
   "source": [
    "## 🌍 Top 10 Countries by Job Count\n"
   ]
  },
  {
   "cell_type": "code",
   "execution_count": null,
   "id": "4092c1df",
   "metadata": {
    "vscode": {
     "languageId": "plaintext"
    }
   },
   "outputs": [],
   "source": [
    "from visuals.visualization import job_count_by_country\n",
    "job_count_by_country(df)\n",
    "Image(filename='../visuals/jobs_by_country.png')\n"
   ]
  },
  {
   "cell_type": "markdown",
   "id": "4c2fc2ba",
   "metadata": {},
   "source": [
    "## 💼 Top 10 Roles by Avg Salary\n"
   ]
  },
  {
   "cell_type": "code",
   "execution_count": null,
   "id": "74c624ae",
   "metadata": {
    "vscode": {
     "languageId": "plaintext"
    }
   },
   "outputs": [],
   "source": [
    "from visuals.visualization import average_salary_by_role\n",
    "average_salary_by_role(df)\n",
    "Image(filename='../visuals/avg_salary_by_role.png')\n"
   ]
  }
 ],
 "metadata": {
  "language_info": {
   "name": "python"
  }
 },
 "nbformat": 4,
 "nbformat_minor": 5
}
